{
 "cells": [
  {
   "cell_type": "markdown",
   "metadata": {},
   "source": [
    "## Condicionales\n",
    "\n",
    "Los condicionales son instrucciones que nos permiten ejecutar un bloque de código dependiendo del valor de alguna **condicional o boolean (True/False)**. Generalmente llevan la siguiente estructura:"
   ]
  },
  {
   "cell_type": "code",
   "execution_count": null,
   "metadata": {},
   "outputs": [],
   "source": [
    "if ((2+2) == 4):\n",
    "    print('Es mayor a 4')"
   ]
  },
  {
   "cell_type": "markdown",
   "metadata": {},
   "source": [
    "En Python, los tabuladores (tecla tab) se usan para separar bloques de código. En estas secciones se usará frecuentemente. \n",
    "\n",
    "También puede tener la siguiente forma, donde el **else** sirve para mantener todos los escenarios contrarios a la **condicional** en el **if**"
   ]
  },
  {
   "cell_type": "code",
   "execution_count": null,
   "metadata": {},
   "outputs": [],
   "source": [
    "x = 3\n",
    "\n",
    "if x < 4:\n",
    "    print('Es menor a 4')\n",
    "else:\n",
    "    print('Es mayor a 4')"
   ]
  },
  {
   "cell_type": "markdown",
   "metadata": {},
   "source": [
    "En general, podemos pensar en los **if/else** como lo siguiente:\n",
    "\n",
    "- Si **condicional** es **True**:\n",
    "    - Haz lo siguiente\n",
    "- De lo contrario:\n",
    "    - Haz lo siguiente\n",
    "\n",
    "También es posible añadir más escenarios a un if/else:"
   ]
  },
  {
   "cell_type": "code",
   "execution_count": null,
   "metadata": {},
   "outputs": [],
   "source": [
    "x = 7\n",
    "\n",
    "if x < 4:\n",
    "    print('Es menor a 4')\n",
    "elif x < 8:\n",
    "    print('Es mayor a 4 y menor a 8')\n",
    "else:\n",
    "    print('Es mayor a 8')"
   ]
  },
  {
   "cell_type": "markdown",
   "metadata": {},
   "source": [
    "### Task \n",
    "\n",
    "1. Crea una variable que contenga tu nombre completo.\n",
    "2. Crea una condicional que cheque si la primera o última letra de tu nombre son vocales \n",
    "3. Si son vocales, imprime \"vocal\"\n",
    "4. De lo contrario, imprime consonante"
   ]
  },
  {
   "cell_type": "code",
   "execution_count": null,
   "metadata": {},
   "outputs": [],
   "source": []
  },
  {
   "cell_type": "markdown",
   "metadata": {},
   "source": [
    "## Ciclos\n",
    "\n",
    "Los ciclos nos permiten ejecutar repetidamente un bloque de código siempre y cuando se cumpla una **condición** o exista un elemento dentro de un **iterable** como una lista. \n",
    "\n",
    "En Python, el ciclo más sencillo es iterar sobre una lista, dónde accesamos a cada uno de los elementos:"
   ]
  },
  {
   "cell_type": "code",
   "execution_count": null,
   "metadata": {},
   "outputs": [],
   "source": [
    "listA = [2,4,6,8,10]\n",
    "\n",
    "# Para cada número en la lista:\n",
    "for numero in listA:\n",
    "    print(numero+1)"
   ]
  },
  {
   "cell_type": "markdown",
   "metadata": {},
   "source": [
    "También es posible repetir un ciclo un número determinado de veces. Para ello se usa un range, que representa un rango del número 0 al n-1. \n",
    "\n",
    "Por ejemplo, el siguiente ejemplo imprimirá los números del 1 al 10"
   ]
  },
  {
   "cell_type": "code",
   "execution_count": null,
   "metadata": {},
   "outputs": [],
   "source": [
    "for i in range(0,11):\n",
    "    print(i)"
   ]
  },
  {
   "cell_type": "markdown",
   "metadata": {},
   "source": [
    "Los rangos nos permiten también iterar listas y acceder a su contenido usando los **índices**. Para ello, el segundo valor del range debe ser el tamaño de la lista. "
   ]
  },
  {
   "cell_type": "code",
   "execution_count": null,
   "metadata": {},
   "outputs": [],
   "source": [
    "nombres = ['Juan','Gabriela','Roberto']\n",
    "\n",
    "for i in range(0,len(nombres)):\n",
    "    print(nombres[i])"
   ]
  },
  {
   "cell_type": "markdown",
   "metadata": {},
   "source": [
    "También podemos modificar el valor de una lista usando un range:"
   ]
  },
  {
   "cell_type": "code",
   "execution_count": null,
   "metadata": {},
   "outputs": [],
   "source": [
    "nombres = ['Juan','Gabriela','Roberto']\n",
    "apellidos = ['Rulfo', 'Mistral', 'Bolaño']\n",
    "\n",
    "for i in range(0,len(nombres)):\n",
    "    nombres[i] = nombres[i] + ' ' + apellidos[i]\n",
    "\n",
    "for nom in nombres:\n",
    "    print(nom)\n"
   ]
  },
  {
   "cell_type": "markdown",
   "metadata": {},
   "source": [
    "Sin embargo, no puede hacerse lo mismo con el iterador de listas:"
   ]
  },
  {
   "cell_type": "code",
   "execution_count": null,
   "metadata": {},
   "outputs": [],
   "source": [
    "for nom in nombres:\n",
    "    nom = 'Autor: ' + nom\n",
    "\n",
    "for nom in nombres:\n",
    "    print(nom)"
   ]
  },
  {
   "cell_type": "markdown",
   "metadata": {},
   "source": [
    "El **while** es un ciclo que también nos permite repetir un bloque de código. La diferencia es que la actualización de la condicional debe ser \"manual\""
   ]
  },
  {
   "cell_type": "code",
   "execution_count": null,
   "metadata": {},
   "outputs": [],
   "source": [
    "i = 0\n",
    "\n",
    "while i < 10:\n",
    "    print(i)\n",
    "    i += 1"
   ]
  },
  {
   "cell_type": "code",
   "execution_count": null,
   "metadata": {},
   "outputs": [],
   "source": [
    "nombres = ['Juan','Gabriela','Roberto', 'Jorge', 'Pablo']\n",
    "\n",
    "i = 0\n",
    "nom = nombres[i]\n",
    "\n",
    "while nom != 'Jorge':\n",
    "    print(nom)\n",
    "    i += 1"
   ]
  },
  {
   "cell_type": "markdown",
   "metadata": {},
   "source": [
    "### Task \n",
    "\n",
    "1. Itera de los números del 1 al 20\n",
    "2. Si el número es par, imprime \"Entero\"\n",
    "3. De lo contrario, imprime \"Impar\""
   ]
  },
  {
   "cell_type": "code",
   "execution_count": null,
   "metadata": {},
   "outputs": [],
   "source": []
  },
  {
   "cell_type": "markdown",
   "metadata": {},
   "source": [
    "## Funciones\n",
    "\n",
    "Las funciones son bloques de código que podemos reutilizar dentro de nuestro código. De la misma forma que declaramos variables para evitar repetir el número en múltiples ocasiones, programamos funciones para replicar procedimientos. Por ejemplo:\n"
   ]
  },
  {
   "cell_type": "code",
   "execution_count": null,
   "metadata": {},
   "outputs": [],
   "source": [
    "def formula(m,x,b):\n",
    "    return (m*x + b)"
   ]
  },
  {
   "cell_type": "markdown",
   "metadata": {},
   "source": [
    "En este caso:\n",
    "- def es la palabra que usamos para definir una función\n",
    "- formula es el nombre de la función\n",
    "- m,x,b dentro del paréntesis son los parámetros de la función. Existen solamente dentro de la función. \n",
    "- return indica que esa función regresa algún dato. "
   ]
  },
  {
   "cell_type": "markdown",
   "metadata": {},
   "source": [
    "Para ejecutar (o llamar) a la función, solo necesitamos ingresar su nombre"
   ]
  },
  {
   "cell_type": "code",
   "execution_count": null,
   "metadata": {},
   "outputs": [],
   "source": [
    "m1 = 1/2\n",
    "x1 = 42\n",
    "b1 = 16\n",
    "\n",
    "y = formula(m1,x1,b1)"
   ]
  },
  {
   "cell_type": "markdown",
   "metadata": {},
   "source": [
    "Las funciones:\n",
    "- Pueden tener o no parámetros"
   ]
  },
  {
   "cell_type": "code",
   "execution_count": null,
   "metadata": {},
   "outputs": [],
   "source": [
    "def vacio():\n",
    "    ans = 0\n",
    "\n",
    "    for i in range(0, 20):\n",
    "        ans += i\n",
    "\n",
    "    return ans"
   ]
  },
  {
   "cell_type": "markdown",
   "metadata": {},
   "source": [
    "- Pueden regresar o no algún valor"
   ]
  },
  {
   "cell_type": "code",
   "execution_count": null,
   "metadata": {},
   "outputs": [],
   "source": [
    "def noreturn(n):\n",
    "    for i in range(0,n):\n",
    "        print('Número => ', i)"
   ]
  },
  {
   "cell_type": "markdown",
   "metadata": {},
   "source": [
    "Los nombres de las funciones deben ser únicos. Si se repite, Python tomará la última declaración de la función:"
   ]
  },
  {
   "cell_type": "code",
   "execution_count": null,
   "metadata": {},
   "outputs": [],
   "source": [
    "def mifunc(a,b):\n",
    "    return (a+b)/(a*b)\n",
    "\n",
    "def mifunc(a,b):\n",
    "    return a+b\n",
    "\n",
    "res = mifunc(2,4)\n",
    "\n",
    "print(res)"
   ]
  },
  {
   "cell_type": "markdown",
   "metadata": {},
   "source": [
    "### Task\n",
    "\n",
    "El índice de masa corporal es un indicador que asocia peso y altura con distintas categorías. Se calcula: $masa/altura^2$. \n",
    "\n",
    "Las categorías son:\n",
    "- Bajo peso <= 18.5\n",
    "- Peso normal > 18.5 \n",
    "- Sobrepeso > 24.9\n",
    "- Obesidad >30\n",
    "\n",
    "Programa una función que calcule el índice e imprima la categoría"
   ]
  },
  {
   "cell_type": "markdown",
   "metadata": {},
   "source": [
    "## Librerías"
   ]
  },
  {
   "cell_type": "markdown",
   "metadata": {},
   "source": [
    "\n",
    "Las librerías es código que se descarga de un repositorio central que nos permite reutlizar las funcionalidades que alguien más escribió. Generalmente se instalan con un gestor, como pip o conda. \n",
    "\n",
    "Por ejemplo:\n",
    "\n",
    "> pip install pandas\n",
    "\n",
    "Se importan dentro de un programa de Python:"
   ]
  },
  {
   "cell_type": "code",
   "execution_count": null,
   "metadata": {},
   "outputs": [],
   "source": [
    "import pandas"
   ]
  },
  {
   "cell_type": "markdown",
   "metadata": {},
   "source": [
    "pandas en este caso, es un paquete que nos permite realizar operaciones sobre datos tabulares. Para poder acceder a sus funcionalidades es necesario teclear el nombre del paquete:"
   ]
  },
  {
   "cell_type": "code",
   "execution_count": null,
   "metadata": {},
   "outputs": [],
   "source": [
    "df = pandas.read_csv('https://raw.githubusercontent.com/rvztz/sample_geodata/master/denue_shortv2.csv', encoding = 'utf8')"
   ]
  },
  {
   "cell_type": "code",
   "execution_count": null,
   "metadata": {},
   "outputs": [],
   "source": [
    "df"
   ]
  },
  {
   "cell_type": "markdown",
   "metadata": {},
   "source": [
    "Para acortar el nombre y no teclear 'pandas...' cada vez que usemos algo de la librería, podemos usar un alias:"
   ]
  },
  {
   "cell_type": "code",
   "execution_count": null,
   "metadata": {},
   "outputs": [],
   "source": [
    "import pandas as pd"
   ]
  },
  {
   "cell_type": "code",
   "execution_count": null,
   "metadata": {},
   "outputs": [],
   "source": [
    "df = pd.read_csv('https://raw.githubusercontent.com/rvztz/sample_geodata/master/denue_shortv2.csv')"
   ]
  },
  {
   "cell_type": "code",
   "execution_count": null,
   "metadata": {},
   "outputs": [],
   "source": [
    "df"
   ]
  },
  {
   "cell_type": "code",
   "execution_count": null,
   "metadata": {},
   "outputs": [],
   "source": []
  }
 ],
 "metadata": {
  "interpreter": {
   "hash": "6aafe8a3222391357024059c792c85599afb9ed788e061e44225aecfe88c501a"
  },
  "kernelspec": {
   "display_name": "Python 3.8.12 64-bit ('3.8.12')",
   "language": "python",
   "name": "python3"
  },
  "language_info": {
   "codemirror_mode": {
    "name": "ipython",
    "version": 3
   },
   "file_extension": ".py",
   "mimetype": "text/x-python",
   "name": "python",
   "nbconvert_exporter": "python",
   "pygments_lexer": "ipython3",
   "version": "3.8.12"
  },
  "orig_nbformat": 4
 },
 "nbformat": 4,
 "nbformat_minor": 2
}

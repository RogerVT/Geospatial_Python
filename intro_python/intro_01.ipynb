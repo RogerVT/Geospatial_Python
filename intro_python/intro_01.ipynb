{
 "cells": [
  {
   "cell_type": "markdown",
   "metadata": {},
   "source": [
    "## Tipos de datos"
   ]
  },
  {
   "cell_type": "markdown",
   "metadata": {},
   "source": [
    "Python es un lenguaje de programación con un *tipado dinámico*, esto quiere decir que\n",
    "- Las variables no tienen que llevar un *tipo* de dato. \n",
    "- El *tipo* se infiere durante la asignación\n",
    "- El tipo de la variable puede cambiar o ser reasignado\n",
    "\n",
    "El lenguaje cuenta con los siguientes tipos de datos:"
   ]
  },
  {
   "cell_type": "markdown",
   "metadata": {},
   "source": [
    "### int: Números enteros \n",
    "Números enteros. Se les puede añadir un signo."
   ]
  },
  {
   "cell_type": "code",
   "execution_count": null,
   "metadata": {},
   "outputs": [],
   "source": [
    "42"
   ]
  },
  {
   "cell_type": "code",
   "execution_count": null,
   "metadata": {},
   "outputs": [],
   "source": [
    "type(42)"
   ]
  },
  {
   "cell_type": "code",
   "execution_count": null,
   "metadata": {},
   "outputs": [],
   "source": [
    "-7"
   ]
  },
  {
   "cell_type": "code",
   "execution_count": null,
   "metadata": {},
   "outputs": [],
   "source": [
    "type(-7)"
   ]
  },
  {
   "cell_type": "code",
   "execution_count": null,
   "metadata": {},
   "outputs": [],
   "source": [
    "2 + 2"
   ]
  },
  {
   "cell_type": "code",
   "execution_count": null,
   "metadata": {},
   "outputs": [],
   "source": [
    "type(2+2)"
   ]
  },
  {
   "cell_type": "markdown",
   "metadata": {},
   "source": [
    "Sin embargo, cada tipo tiene asignado una serie de operaciones que solo son válidas entre datos de su mismo tipo."
   ]
  },
  {
   "cell_type": "markdown",
   "metadata": {},
   "source": [
    "### float: Números con punto flotante \n",
    "Números con punto decimal. Se les puede añadir un signo."
   ]
  },
  {
   "cell_type": "code",
   "execution_count": null,
   "metadata": {},
   "outputs": [],
   "source": [
    "0.5"
   ]
  },
  {
   "cell_type": "code",
   "execution_count": null,
   "metadata": {},
   "outputs": [],
   "source": [
    "type(0.5)"
   ]
  },
  {
   "cell_type": "code",
   "execution_count": null,
   "metadata": {},
   "outputs": [],
   "source": [
    "-2.5"
   ]
  },
  {
   "cell_type": "code",
   "execution_count": null,
   "metadata": {},
   "outputs": [],
   "source": [
    "type(-2.5)"
   ]
  },
  {
   "cell_type": "code",
   "execution_count": null,
   "metadata": {},
   "outputs": [],
   "source": [
    "# La división siempre queda como float\n",
    "5 / 2"
   ]
  },
  {
   "cell_type": "code",
   "execution_count": null,
   "metadata": {},
   "outputs": [],
   "source": [
    "type(5/2)"
   ]
  },
  {
   "cell_type": "markdown",
   "metadata": {},
   "source": [
    "### str: Strings \n",
    "Caracteres o secuencias de caracteres. Palabras, texto, etc. Pueden ser declaradas entre \"palabra\" o 'palabra'"
   ]
  },
  {
   "cell_type": "code",
   "execution_count": null,
   "metadata": {},
   "outputs": [],
   "source": [
    "\"A\""
   ]
  },
  {
   "cell_type": "code",
   "execution_count": null,
   "metadata": {},
   "outputs": [],
   "source": [
    "type(\"A\")"
   ]
  },
  {
   "cell_type": "code",
   "execution_count": null,
   "metadata": {},
   "outputs": [],
   "source": [
    "\"Esto es una palabra\""
   ]
  },
  {
   "cell_type": "code",
   "execution_count": null,
   "metadata": {},
   "outputs": [],
   "source": [
    "type(\"Esto es una palabra\")"
   ]
  },
  {
   "cell_type": "markdown",
   "metadata": {},
   "source": [
    "Es posible unir dos palabras también:"
   ]
  },
  {
   "cell_type": "code",
   "execution_count": null,
   "metadata": {},
   "outputs": [],
   "source": [
    "\"Ej\" + \"emplo\""
   ]
  },
  {
   "cell_type": "markdown",
   "metadata": {},
   "source": [
    "Los espacios deben ser declarados explícitamente. Por ejemplo:"
   ]
  },
  {
   "cell_type": "code",
   "execution_count": null,
   "metadata": {},
   "outputs": [],
   "source": [
    "\"Hola\" + \"mundo\""
   ]
  },
  {
   "cell_type": "code",
   "execution_count": null,
   "metadata": {},
   "outputs": [],
   "source": [
    "\"Hola\" + \" mundo\""
   ]
  },
  {
   "cell_type": "markdown",
   "metadata": {},
   "source": [
    "Existen caracteres especiales que pueden ser insertados como>\n",
    "- **\\n**: Salto de línea\n",
    "- **\\t**: Equivalente a espacio del tabulador\n",
    "- **\\\\**: Si se desea escribir \\ se debe \"escapar\" (poner este símbolo)"
   ]
  },
  {
   "cell_type": "code",
   "execution_count": null,
   "metadata": {},
   "outputs": [],
   "source": [
    "print('\\\\')"
   ]
  },
  {
   "cell_type": "code",
   "execution_count": null,
   "metadata": {},
   "outputs": [],
   "source": [
    "print('Aquí empieza el salto \\naquí termina')"
   ]
  },
  {
   "cell_type": "markdown",
   "metadata": {},
   "source": [
    "### bool: Booleanos \n",
    "Almacenan **verdades lógicas**. Solamente pueden ser \"True\" (Verdadero)  o \"False\" (Falso)"
   ]
  },
  {
   "cell_type": "code",
   "execution_count": null,
   "metadata": {},
   "outputs": [],
   "source": [
    "True"
   ]
  },
  {
   "cell_type": "code",
   "execution_count": null,
   "metadata": {},
   "outputs": [],
   "source": [
    "False"
   ]
  },
  {
   "cell_type": "code",
   "execution_count": null,
   "metadata": {},
   "outputs": [],
   "source": [
    "# Almacenamos un booleano\n",
    "\n",
    "esAzulElCielo = True\n",
    "print(esAzulElCielo)"
   ]
  },
  {
   "cell_type": "markdown",
   "metadata": {},
   "source": [
    "### Errores entre tipos y conversión.\n",
    "Cada tipo tiene un conjunto de operaciones asignado. En el caso de los números, es posible realizar operaciones entre **int** y **float**. Sin embargo, el resultado siempre será un **float**"
   ]
  },
  {
   "cell_type": "code",
   "execution_count": null,
   "metadata": {},
   "outputs": [],
   "source": [
    "2 + 2.0"
   ]
  },
  {
   "cell_type": "code",
   "execution_count": null,
   "metadata": {},
   "outputs": [],
   "source": [
    "4 * 2.0"
   ]
  },
  {
   "cell_type": "code",
   "execution_count": null,
   "metadata": {},
   "outputs": [],
   "source": [
    "2 ** 8.0"
   ]
  },
  {
   "cell_type": "markdown",
   "metadata": {},
   "source": [
    "Si quisiéramos que nuestros resultados fueran **int** deberíamos convertir (cast) el tipo **float** a **int**"
   ]
  },
  {
   "cell_type": "code",
   "execution_count": null,
   "metadata": {},
   "outputs": [],
   "source": [
    "256 * 4.0"
   ]
  },
  {
   "cell_type": "code",
   "execution_count": null,
   "metadata": {},
   "outputs": [],
   "source": [
    "256 * int(4.0)"
   ]
  },
  {
   "cell_type": "markdown",
   "metadata": {},
   "source": [
    "También es posible convertir de float a int"
   ]
  },
  {
   "cell_type": "code",
   "execution_count": null,
   "metadata": {},
   "outputs": [],
   "source": [
    "3.1416 * int(2.0)"
   ]
  },
  {
   "cell_type": "markdown",
   "metadata": {},
   "source": [
    "En el caso de los **str**ings no es posible realizar operaciones con tipos numéricos"
   ]
  },
  {
   "cell_type": "code",
   "execution_count": null,
   "metadata": {},
   "outputs": [],
   "source": [
    "\"Este es mi número => \" + 3.1416"
   ]
  },
  {
   "cell_type": "code",
   "execution_count": null,
   "metadata": {},
   "outputs": [],
   "source": [
    "42 - \"42\""
   ]
  },
  {
   "cell_type": "markdown",
   "metadata": {},
   "source": [
    "Para esto, podemos convertir de float/int a str:"
   ]
  },
  {
   "cell_type": "code",
   "execution_count": null,
   "metadata": {},
   "outputs": [],
   "source": [
    "print(\"Este es mi número => \" + str(3.1416))\n",
    "print(\"Este también => \" + str(256))"
   ]
  },
  {
   "cell_type": "markdown",
   "metadata": {},
   "source": [
    "También es posible convertir **str**ings a números:"
   ]
  },
  {
   "cell_type": "code",
   "execution_count": null,
   "metadata": {},
   "outputs": [],
   "source": [
    "print(2.5 + float('2.5'))\n",
    "print(2 ** int(8))"
   ]
  },
  {
   "cell_type": "markdown",
   "metadata": {},
   "source": [
    "## Variables"
   ]
  },
  {
   "cell_type": "markdown",
   "metadata": {},
   "source": [
    "Los valores que vimos sirven de poco si no pueden ser almacenados. Por ejemplo, supongamos que realizaremos 200 operaciones con el valor de PI. Si bien es posible teclear el valor 200 veces, resulta un poco tedioso. \n",
    "\n",
    "En otros casos, supongamos que tenemos un programa que busca filtrar los municipios de algún estado del país. Podríamos usar valores **constantes** como lo vimos en la sección anterior, pero podría ser mejor si este valor pudiera ser introducido por el usuario o si lo pudiéramos reemplazar bajo ciertas condiciones.\n",
    "\n",
    "Para ello existen las variables y la operación de asignación (=). Ambas nos permiten **asignar** algún valor a un identificador."
   ]
  },
  {
   "cell_type": "code",
   "execution_count": null,
   "metadata": {},
   "outputs": [],
   "source": [
    "# Variables ejemplo\n",
    "\n",
    "alto = 1.20\n",
    "ancho = 0.60\n",
    "largo = 0.75\n",
    "\n",
    "# Strings\n",
    "\n",
    "nombre = \"Roger\"\n",
    "apellido_1 = \"Vazquez\"\n",
    "apellido_2 = \"Tuz\""
   ]
  },
  {
   "cell_type": "markdown",
   "metadata": {},
   "source": [
    "Es posible almacenar el resultado de alguna operación en una variable"
   ]
  },
  {
   "cell_type": "code",
   "execution_count": null,
   "metadata": {},
   "outputs": [],
   "source": [
    "var = 2*2\n",
    "\n",
    "#y=mx+b\n",
    "m = 1/2\n",
    "x = 16\n",
    "b = 2\n",
    "\n",
    "y = (m*x) + b\n",
    "\n",
    "print(\"my var => \", var)\n",
    "print(\"y= \", y)"
   ]
  },
  {
   "cell_type": "markdown",
   "metadata": {},
   "source": [
    "**Todas** las variables deben estar definidas, de lo contrario marca un error al intentar \"acceder\" a esas variables"
   ]
  },
  {
   "cell_type": "code",
   "execution_count": null,
   "metadata": {},
   "outputs": [],
   "source": [
    "print(noExisto)"
   ]
  },
  {
   "cell_type": "markdown",
   "metadata": {},
   "source": [
    "Las expresiones que resultan en verdadero o falso (booleanos) también pueden ser almacenadas en variables"
   ]
  },
  {
   "cell_type": "code",
   "execution_count": null,
   "metadata": {},
   "outputs": [],
   "source": [
    "# Es 8 mayor que 4?\n",
    "mayor = 4 < 8\n",
    "\n",
    "# Es 8 igual a 4 * 2?\n",
    "igual = (8 == (4*2))\n",
    "\n",
    "print(mayor)\n",
    "print(igual)"
   ]
  },
  {
   "cell_type": "code",
   "execution_count": null,
   "metadata": {},
   "outputs": [],
   "source": [
    "# Nombre\n",
    "matricula = \"\"\n",
    "validarAlumno = (matricula == \"A00123456\")\n",
    "\n",
    "print(validarAlumno)"
   ]
  },
  {
   "cell_type": "markdown",
   "metadata": {},
   "source": [
    "Los nombres de las variables deben: \n",
    "- Ser entendibles \n",
    "- Ser representativos de lo que contienen\n",
    "- No contener símbolos (con excepción de _ o -)"
   ]
  },
  {
   "cell_type": "code",
   "execution_count": null,
   "metadata": {},
   "outputs": [],
   "source": [
    "#mal nombre de variable\n",
    "amk = 5895\n",
    "nAl = \"Roger\"\n",
    "\n",
    "#buen ejemplo\n",
    "alturaKilimanjaro = 5895\n",
    "nombreAlumno = \"Roger\"\n"
   ]
  },
  {
   "cell_type": "markdown",
   "metadata": {},
   "source": [
    "## Operaciones"
   ]
  },
  {
   "cell_type": "markdown",
   "metadata": {},
   "source": [
    "El lenguaje incluye **operadores** que nos permiten ejecutar ciertas funciones sobre nuestras variables o datos. En general, pueden dividirse en dos categorías."
   ]
  },
  {
   "cell_type": "markdown",
   "metadata": {},
   "source": [
    "### Operaciones matemáticas\n",
    "\n",
    "Es posible asignar múltiples variables en una sola línea: "
   ]
  },
  {
   "cell_type": "code",
   "execution_count": null,
   "metadata": {},
   "outputs": [],
   "source": [
    "# Suma\n",
    "x,a,b = 2,4,6\n",
    "print(\"Suma de a+b => \", a+b)\n",
    "\n",
    "# Resta\n",
    "print(\"Resta de b-a => \", b-a)"
   ]
  },
  {
   "cell_type": "code",
   "execution_count": null,
   "metadata": {},
   "outputs": [],
   "source": [
    "# Multiplicación. También es posible almacenar el resultado de alguna operación en una variable\n",
    "mult_xa = x*a\n",
    "print(\"mult de x*a => \", mult_xa)\n",
    "\n",
    "# División. Siempre devuelve un valor flotante\n",
    "div_a = a/x\n",
    "print(div_a)"
   ]
  },
  {
   "cell_type": "code",
   "execution_count": null,
   "metadata": {},
   "outputs": [],
   "source": [
    "# El resultado puede redondearse usando dos símbolos de división contiguos => //\n",
    "m = 48\n",
    "d = 22\n",
    "\n",
    "div_m = m/d\n",
    "div_trunc = m//d\n",
    "print(\"operador / => \", div_m)\n",
    "print(\"operador // => \", div_trunc)"
   ]
  },
  {
   "cell_type": "code",
   "execution_count": null,
   "metadata": {},
   "outputs": [],
   "source": [
    "# Para realizar una operación exponencial:\n",
    "print(8 ** 2)\n",
    "\n",
    "# El uso de paréntesis crea precedencia para los operadores\n",
    "sin_paren = x + a * b\n",
    "con_paren =  (x+a) * b\n",
    "\n",
    "print(sin_paren)\n",
    "print(con_paren)"
   ]
  },
  {
   "cell_type": "code",
   "execution_count": null,
   "metadata": {},
   "outputs": [],
   "source": [
    "# Finalmente, la operación módulo % regresa el residuo de cualquier división\n",
    "mod = 7 % 2 # => 1\n",
    "print(mod)\n",
    "print('otro modulo => ', 8%2) # => 0"
   ]
  },
  {
   "cell_type": "markdown",
   "metadata": {},
   "source": [
    "### Operaciones lógicas\n",
    "\n",
    "El tipo **bool** permitía guardar valores de \"verdad\". Esto nos permite crear y evaluar declaraciones lógicas en nuestros programas. Cosas como:\n",
    "- ¿Son los valores iguales?\n",
    "- ¿Es el valor A mayor que B?\n",
    "- ¿Es el cielo Y el mar azules?\n",
    "\n",
    "Estas operaciones regresan únicamente valores de tipo **bool**. \n",
    "\n",
    "Para evaluar si dos cosas son iguales se usa el operador A == B.\n",
    "\n",
    "Donde se evalúa:\n",
    "\"¿Son A y B iguales?\""
   ]
  },
  {
   "cell_type": "code",
   "execution_count": null,
   "metadata": {},
   "outputs": [],
   "source": [
    "age,edad = 20,24\n",
    "\n",
    "isEq = (age == 20)\n",
    "print(isEq)\n",
    "\n",
    "print(age==edad)\n"
   ]
  },
  {
   "cell_type": "code",
   "execution_count": null,
   "metadata": {},
   "outputs": [],
   "source": [
    "# También es posible usar strings\n",
    "nombre, nom = 'José', 'Joe'\n",
    "print(nombre == nom)\n",
    "print(nombre == 'Jose')\n",
    "print(nombre == 'José')"
   ]
  },
  {
   "cell_type": "markdown",
   "metadata": {},
   "source": [
    "La desigualdad se prueba con el operador A != B. \n",
    "\n",
    "Donde se prueba: \"¿Son A y B diferentes?\""
   ]
  },
  {
   "cell_type": "code",
   "execution_count": null,
   "metadata": {},
   "outputs": [],
   "source": [
    "age,edad = 20.5,24.3\n",
    "\n",
    "print(age != edad)\n",
    "\n",
    "nombre, nom = 'José', 'José'\n",
    "\n",
    "print(nombre != nom)"
   ]
  },
  {
   "cell_type": "markdown",
   "metadata": {},
   "source": [
    "Comparaciones numéricas."
   ]
  },
  {
   "cell_type": "code",
   "execution_count": null,
   "metadata": {},
   "outputs": [],
   "source": [
    "# Menor que \n",
    "print(2 < 3)\n",
    "print(64 < 4)\n",
    "\n",
    "# Mayor que  \n",
    "print(64 > 4)\n",
    "print(16 > 22)\n",
    "\n",
    "# Menor o igual\n",
    "print(4 <= 5)\n",
    "print(4 <= 4)\n",
    "\n",
    "\n",
    "# Mayor o igual\n",
    "print(42 >= 22)\n",
    "print(42 >= 42)"
   ]
  },
  {
   "cell_type": "markdown",
   "metadata": {},
   "source": [
    "**And** y **Or**\n",
    "\n",
    "Son operadores que nos permiten evaluar varias declaraciones lógicas a la vez. Se resume:\n",
    "\n",
    "- AND: El cielo Y el mar son azules. \n",
    "\n",
    "|       | True  | False |\n",
    "|-------|-------|-------|\n",
    "| True  | True  | False |\n",
    "| False | False | False | \n",
    "\n",
    "- OR: El cielo O el pasto son verdes.\n",
    "\n",
    "|       | True  | False |\n",
    "|-------|-------|-------|\n",
    "| True  | True  | True |\n",
    "| False | True | False |"
   ]
  },
  {
   "cell_type": "code",
   "execution_count": null,
   "metadata": {},
   "outputs": [],
   "source": [
    "colorCielo = 'azul'\n",
    "colorMar = 'azul'\n",
    "colorPasto = 'verde'\n",
    "\n",
    "esAzul = (colorCielo == 'azul') and (colorMar == 'azul')\n",
    "print(esAzul)\n",
    "\n",
    "esAzul = (colorCielo == 'azul') and (colorPasto == 'azul')\n",
    "print(esAzul)\n",
    "\n",
    "esVerde = (colorCielo == 'verde') or (colorPasto == 'verde')\n",
    "print(esVerde)"
   ]
  },
  {
   "cell_type": "code",
   "execution_count": null,
   "metadata": {},
   "outputs": [],
   "source": [
    "# Si buscamos un rango, ej  10 < num < 20\n",
    "num = 11\n",
    "rango = (10 < num) and (num < 20)\n",
    "print(rango)"
   ]
  },
  {
   "cell_type": "code",
   "execution_count": null,
   "metadata": {},
   "outputs": [],
   "source": [
    "print(10 < num < 20)"
   ]
  },
  {
   "cell_type": "markdown",
   "metadata": {},
   "source": [
    "## Listas\n",
    "\n",
    "Son conjuntos de datos organizados en una serie de \"bloques\". Cada lista puede contener números, booleanos, strings u otros objetos. Si bien se pueden mezclar los tipos de objeto en una lista, es recomendable mantener un solo tipo\n"
   ]
  },
  {
   "cell_type": "code",
   "execution_count": null,
   "metadata": {},
   "outputs": [],
   "source": [
    "# Declaración de una lista\n",
    "listA = [1,2,3,4]\n",
    "print(listA)\n",
    "\n",
    "# Declaración de una lista vacía\n",
    "listE = []\n",
    "\n",
    "# Agregando números\n",
    "listE.append(1)\n",
    "listE.append(2)\n",
    "listE.append(3)\n",
    "listE.append(4)\n",
    "\n",
    "print(listE)"
   ]
  },
  {
   "cell_type": "code",
   "execution_count": null,
   "metadata": {},
   "outputs": [],
   "source": [
    "# Sacando el último elemento de la lista\n",
    "ult = listE.pop()\n",
    "print(ult)\n",
    "print(listE)"
   ]
  },
  {
   "cell_type": "markdown",
   "metadata": {},
   "source": [
    "Las listas tienen índices, por lo que podemos acceder a los datos individualmente. Estos índices se enumeran de 0 a (n-1), donde n es el tamaño de objetos en la lista. \n",
    "\n",
    "En el caso de listA, tenemos 4 objetos por lo que nuestros índices van de 0..3\n",
    "\n",
    "Tratar de acceder a un índice mayor a esto resulta en un error. \n"
   ]
  },
  {
   "cell_type": "code",
   "execution_count": null,
   "metadata": {},
   "outputs": [],
   "source": [
    "print(listA)\n",
    "\n",
    "print(listA[0])\n",
    "print(listA[3])\n",
    "# También pueden ser modificadas\n",
    "listA[2] += 4\n",
    "print(listA)\n",
    "\n"
   ]
  },
  {
   "cell_type": "code",
   "execution_count": null,
   "metadata": {},
   "outputs": [],
   "source": [
    "print(listA[4])"
   ]
  },
  {
   "cell_type": "markdown",
   "metadata": {},
   "source": [
    "Si no se conoce el tamaño de la lista, se usa la función len()"
   ]
  },
  {
   "cell_type": "code",
   "execution_count": null,
   "metadata": {},
   "outputs": [],
   "source": [
    "siz = len(listA)\n",
    "print(siz)"
   ]
  },
  {
   "cell_type": "markdown",
   "metadata": {},
   "source": [
    "Los strings también se comportan como listas de carácteres"
   ]
  },
  {
   "cell_type": "code",
   "execution_count": null,
   "metadata": {},
   "outputs": [],
   "source": [
    "escuela = 'Tec Monterrey'\n",
    "print(len(nombre))\n",
    "print(nombre[12])\n",
    "\n",
    "# Usar un número negativo cuenta del final al inicio\n",
    "print(nombre[-3])"
   ]
  },
  {
   "cell_type": "markdown",
   "metadata": {},
   "source": [
    "Las listas (y los strings) pueden devolver \"sublistas\" usando slices"
   ]
  },
  {
   "cell_type": "code",
   "execution_count": null,
   "metadata": {},
   "outputs": [],
   "source": [
    "listB = [x for x in range(1,101)]\n",
    "print(listB[0:20])\n",
    "\n",
    "temp = listB[0:30]\n",
    "print(temp[:10])\n",
    "\n",
    "print(listB[90:])\n",
    "\n",
    "print(temp[::-1])"
   ]
  },
  {
   "cell_type": "code",
   "execution_count": null,
   "metadata": {},
   "outputs": [],
   "source": [
    "# Las listas se pueden concatenar\n",
    "\n",
    "list_A = [1,2,3]\n",
    "list_B = [4,5,6,7,8,9]\n",
    "\n",
    "list_C = list_A + list_B\n",
    "print(list_C)\n"
   ]
  },
  {
   "cell_type": "code",
   "execution_count": null,
   "metadata": {},
   "outputs": [],
   "source": [
    "# El operador IN nos deja checar si el valor existe dentro de la lista:\n",
    "\n",
    "isIn = 4 in list_A\n",
    "print(isIn)\n",
    "\n",
    "isIn2 = 4 in list_C\n",
    "print(isIn2)"
   ]
  },
  {
   "cell_type": "code",
   "execution_count": null,
   "metadata": {},
   "outputs": [],
   "source": [
    "# También aplica sobre strings\n",
    "\n",
    "escuela = 'Tec de Monterrey'\n",
    "print('Monterrey' in escuela)"
   ]
  }
 ],
 "metadata": {
  "interpreter": {
   "hash": "6aafe8a3222391357024059c792c85599afb9ed788e061e44225aecfe88c501a"
  },
  "kernelspec": {
   "display_name": "Python 3.8.12 64-bit ('3.8.12')",
   "language": "python",
   "name": "python3"
  },
  "language_info": {
   "codemirror_mode": {
    "name": "ipython",
    "version": 3
   },
   "file_extension": ".py",
   "mimetype": "text/x-python",
   "name": "python",
   "nbconvert_exporter": "python",
   "pygments_lexer": "ipython3",
   "version": "3.8.12"
  },
  "orig_nbformat": 4
 },
 "nbformat": 4,
 "nbformat_minor": 2
}
